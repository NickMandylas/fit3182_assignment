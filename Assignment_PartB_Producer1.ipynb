{
 "cells": [
  {
   "cell_type": "markdown",
   "metadata": {},
   "source": [
    "## FIT3182 - Assignment 2\n",
    "---\n",
    "### Part B - Producer 1\n",
    "\n",
    "**Information:**\n",
    "- Filename: Assignment_PartB_Producer1.ipynb\n",
    "- Student Name: Nicholas Mandylas\n",
    "- Student Number: 27840328\n",
    "- Student Email: nman48@student.monash.edu"
   ]
  },
  {
   "cell_type": "code",
   "execution_count": 4,
   "metadata": {},
   "outputs": [
    {
     "name": "stdout",
     "output_type": "stream",
     "text": [
      "Message published successfully. Data: {'latitude': -37.415, 'longitude': 148.105, 'air_temperature_celcius': 12.0, 'relative_humidity': 47.0, 'windspeed_knots': 7.7, 'max_wind_speed': 15.0, 'precipitation_type': 'G', 'precipitation': 0.08, 'ghi': 105.0, 'created_date': '2019-01-01T00:00:00', 'producer_id': 'producer_climate'}\n",
      "Message published successfully. Data: {'latitude': -37.438, 'longitude': 148.09, 'air_temperature_celcius': 10.0, 'relative_humidity': 44.7, 'windspeed_knots': 8.0, 'max_wind_speed': 15.9, 'precipitation_type': 'G', 'precipitation': 0.08, 'ghi': 90.0, 'created_date': '2019-01-02T00:00:00', 'producer_id': 'producer_climate'}\n",
      "Message published successfully. Data: {'latitude': -37.605, 'longitude': 149.308, 'air_temperature_celcius': 13.0, 'relative_humidity': 48.5, 'windspeed_knots': 10.7, 'max_wind_speed': 14.0, 'precipitation_type': 'G', 'precipitation': 0.71, 'ghi': 113.0, 'created_date': '2019-01-03T00:00:00', 'producer_id': 'producer_climate'}\n",
      "Message published successfully. Data: {'latitude': -38.495, 'longitude': 146.944, 'air_temperature_celcius': 8.0, 'relative_humidity': 44.6, 'windspeed_knots': 3.9, 'max_wind_speed': 8.0, 'precipitation_type': 'G', 'precipitation': 0.39, 'ghi': 72.0, 'created_date': '2019-01-04T00:00:00', 'producer_id': 'producer_climate'}\n",
      "Message published successfully. Data: {'latitude': -37.475, 'longitude': 143.365, 'air_temperature_celcius': 17.0, 'relative_humidity': 49.9, 'windspeed_knots': 12.2, 'max_wind_speed': 21.0, 'precipitation_type': 'G', 'precipitation': 0.24, 'ghi': 146.0, 'created_date': '2019-01-05T00:00:00', 'producer_id': 'producer_climate'}\n",
      "Message published successfully. Data: {'latitude': -37.434, 'longitude': 148.091, 'air_temperature_celcius': 9.0, 'relative_humidity': 40.0, 'windspeed_knots': 8.6, 'max_wind_speed': 15.0, 'precipitation_type': 'G', 'precipitation': 0.0, 'ghi': 84.0, 'created_date': '2019-01-06T00:00:00', 'producer_id': 'producer_climate'}\n",
      "Message published successfully. Data: {'latitude': -37.391, 'longitude': 148.066, 'air_temperature_celcius': 14.0, 'relative_humidity': 44.6, 'windspeed_knots': 7.7, 'max_wind_speed': 15.9, 'precipitation_type': 'G', 'precipitation': 0.03, 'ghi': 125.0, 'created_date': '2019-01-07T00:00:00', 'producer_id': 'producer_climate'}\n",
      "Message published successfully. Data: {'latitude': -35.321, 'longitude': 143.502, 'air_temperature_celcius': 12.0, 'relative_humidity': 44.0, 'windspeed_knots': 4.7, 'max_wind_speed': 7.0, 'precipitation_type': 'G', 'precipitation': 0.0, 'ghi': 108.0, 'created_date': '2019-01-08T00:00:00', 'producer_id': 'producer_climate'}\n",
      "Message published successfully. Data: {'latitude': -37.57, 'longitude': 148.034, 'air_temperature_celcius': 11.0, 'relative_humidity': 40.4, 'windspeed_knots': 19.3, 'max_wind_speed': 26.0, 'precipitation_type': 'G', 'precipitation': 0.0, 'ghi': 102.0, 'created_date': '2019-01-09T00:00:00', 'producer_id': 'producer_climate'}\n",
      "Message published successfully. Data: {'latitude': -37.61, 'longitude': 149.307, 'air_temperature_celcius': 18.0, 'relative_humidity': 55.5, 'windspeed_knots': 8.9, 'max_wind_speed': 15.0, 'precipitation_type': 'G', 'precipitation': 0.01, 'ghi': 147.0, 'created_date': '2019-01-10T00:00:00', 'producer_id': 'producer_climate'}\n",
      "Message published successfully. Data: {'latitude': -37.978, 'longitude': 145.623, 'air_temperature_celcius': 21.0, 'relative_humidity': 59.5, 'windspeed_knots': 12.4, 'max_wind_speed': 21.0, 'precipitation_type': 'I', 'precipitation': 0.0, 'ghi': 166.0, 'created_date': '2019-01-11T00:00:00', 'producer_id': 'producer_climate'}\n",
      "Message published successfully. Data: {'latitude': -37.091, 'longitude': 145.362, 'air_temperature_celcius': 12.0, 'relative_humidity': 48.8, 'windspeed_knots': 4.2, 'max_wind_speed': 7.0, 'precipitation_type': 'I', 'precipitation': 0.0, 'ghi': 104.0, 'created_date': '2019-01-12T00:00:00', 'producer_id': 'producer_climate'}\n",
      "Message published successfully. Data: {'latitude': -37.399, 'longitude': 148.081, 'air_temperature_celcius': 14.0, 'relative_humidity': 49.9, 'windspeed_knots': 13.7, 'max_wind_speed': 22.0, 'precipitation_type': 'G', 'precipitation': 0.03, 'ghi': 120.0, 'created_date': '2019-01-13T00:00:00', 'producer_id': 'producer_climate'}\n",
      "Message published successfully. Data: {'latitude': -37.63, 'longitude': 149.232, 'air_temperature_celcius': 18.0, 'relative_humidity': 57.0, 'windspeed_knots': 7.4, 'max_wind_speed': 15.0, 'precipitation_type': 'I', 'precipitation': 0.0, 'ghi': 145.0, 'created_date': '2019-01-14T00:00:00', 'producer_id': 'producer_climate'}\n",
      "Message published successfully. Data: {'latitude': -37.0899, 'longitude': 141.0238, 'air_temperature_celcius': 9.0, 'relative_humidity': 42.2, 'windspeed_knots': 6.4, 'max_wind_speed': 9.9, 'precipitation_type': 'G', 'precipitation': 0.01, 'ghi': 82.0, 'created_date': '2019-01-15T00:00:00', 'producer_id': 'producer_climate'}\n",
      "Message published successfully. Data: {'latitude': -37.559, 'longitude': 148.037, 'air_temperature_celcius': 9.0, 'relative_humidity': 41.1, 'windspeed_knots': 12.7, 'max_wind_speed': 19.0, 'precipitation_type': 'G', 'precipitation': 0.24, 'ghi': 83.0, 'created_date': '2019-01-16T00:00:00', 'producer_id': 'producer_climate'}\n",
      "Message published successfully. Data: {'latitude': -37.3583, 'longitude': 143.0203, 'air_temperature_celcius': 13.0, 'relative_humidity': 43.3, 'windspeed_knots': 9.4, 'max_wind_speed': 14.0, 'precipitation_type': 'G', 'precipitation': 0.0, 'ghi': 118.0, 'created_date': '2019-01-17T00:00:00', 'producer_id': 'producer_climate'}\n"
     ]
    },
    {
     "ename": "KeyboardInterrupt",
     "evalue": "",
     "output_type": "error",
     "traceback": [
      "\u001b[0;31m---------------------------------------------------------------------------\u001b[0m",
      "\u001b[0;31mKeyboardInterrupt\u001b[0m                         Traceback (most recent call last)",
      "\u001b[0;32m<ipython-input-4-5dc78dbe8100>\u001b[0m in \u001b[0;36m<module>\u001b[0;34m\u001b[0m\n\u001b[1;32m     71\u001b[0m         \u001b[0mpublish_message\u001b[0m\u001b[0;34m(\u001b[0m\u001b[0mproducer\u001b[0m\u001b[0;34m,\u001b[0m \u001b[0mtopic\u001b[0m\u001b[0;34m,\u001b[0m \u001b[0mselected_data\u001b[0m\u001b[0;34m)\u001b[0m \u001b[0;31m# Publish message\u001b[0m\u001b[0;34m\u001b[0m\u001b[0;34m\u001b[0m\u001b[0m\n\u001b[1;32m     72\u001b[0m \u001b[0;34m\u001b[0m\u001b[0m\n\u001b[0;32m---> 73\u001b[0;31m         \u001b[0msleep\u001b[0m\u001b[0;34m(\u001b[0m\u001b[0;36m10\u001b[0m\u001b[0;34m)\u001b[0m\u001b[0;34m\u001b[0m\u001b[0;34m\u001b[0m\u001b[0m\n\u001b[0m",
      "\u001b[0;31mKeyboardInterrupt\u001b[0m: "
     ]
    }
   ],
   "source": [
    "from time import sleep\n",
    "from json import dumps\n",
    "from kafka import KafkaProducer\n",
    "import random\n",
    "import datetime as dt\n",
    "import pandas\n",
    "\n",
    "# Reading data from CSV\n",
    "def readCSV():\n",
    "    climate_streaming_data = pandas.read_csv('climate_streaming.csv') # Get data from CSV\n",
    "    streaming_data = []\n",
    "    for _, row in climate_streaming_data.iterrows(): # Iterate through each row in the CSV\n",
    "        data_point = {} # Create dictionary & create key for each item from CSV data.\n",
    "        data_point['latitude'] = float(row['latitude'])\n",
    "        data_point['longitude'] = float(row['longitude'])\n",
    "        data_point['air_temperature_celcius'] = float(\n",
    "            row['air_temperature_celcius'])\n",
    "        data_point['relative_humidity'] = float(row['relative_humidity'])\n",
    "        data_point['windspeed_knots'] = float(row['windspeed_knots'])\n",
    "        data_point['max_wind_speed'] = float(row['max_wind_speed'])\n",
    "\n",
    "        # Unncessary space at beginning of value is removed.\n",
    "        # We also split precipation type and amount, to make it easier for sorting/searching later.\n",
    "        precipitation = str(row['precipitation ']).replace(\" \", \"\")\n",
    "        data_point['precipitation_type'] = precipitation[-1]\n",
    "        data_point['precipitation'] = float(precipitation[0:-1])\n",
    "\n",
    "        data_point['ghi'] = float(row['GHI_w/m2'])\n",
    "\n",
    "        streaming_data.append(data_point)\n",
    "\n",
    "    return streaming_data\n",
    "\n",
    "\n",
    "def publish_message(producer_instance, topic_name, data):\n",
    "    try:\n",
    "        producer_instance.send(topic_name, value=data)\n",
    "        producer_instance.flush()\n",
    "        print('Message published successfully. Data: ' + str(data))\n",
    "    except Exception as ex:\n",
    "        print('Exception in publishing message.')\n",
    "        print(str(ex))\n",
    "\n",
    "\n",
    "def connect_kafka_producer():\n",
    "    _producer = None\n",
    "    try:\n",
    "        _producer = KafkaProducer( # Added serializer on the producer, which will automatically serialize to JSON string format.\n",
    "            bootstrap_servers=['localhost:9092'], value_serializer=lambda x: dumps(x).encode('ascii'), api_version=(0, 10)) \n",
    "    except Exception as ex:\n",
    "        print('Exception while connecting Kafka.')\n",
    "        print(str(ex))\n",
    "    finally:\n",
    "        return _producer\n",
    "\n",
    "\n",
    "if __name__ == '__main__':\n",
    "\n",
    "    data = readCSV()\n",
    "    topic = 'Climate'\n",
    "    producer = connect_kafka_producer()\n",
    "    created_date = dt.datetime(2018, 12, 31) # Last date from historic CSV\n",
    "\n",
    "    while True:\n",
    "        random_number = random.randrange(0, len(data))\n",
    "        selected_data = data[random_number] # Pick a random climate data point.\n",
    "        created_date += dt.timedelta(days=1) # Increase date from previous date.\n",
    "        selected_data['created_date'] = created_date.isoformat() # Set date to string format (to be stored in JSON)\n",
    "        selected_data['producer_id'] = 'producer_climate'\n",
    "\n",
    "        publish_message(producer, topic, selected_data) # Publish message\n",
    "\n",
    "        sleep(10)\n"
   ]
  }
 ],
 "metadata": {
  "interpreter": {
   "hash": "31f2aee4e71d21fbe5cf8b01ff0e069b9275f58929596ceb00d14d90e3e16cd6"
  },
  "kernelspec": {
   "display_name": "Python 3.8.5 64-bit",
   "name": "python3"
  },
  "language_info": {
   "codemirror_mode": {
    "name": "ipython",
    "version": 3
   },
   "file_extension": ".py",
   "mimetype": "text/x-python",
   "name": "python",
   "nbconvert_exporter": "python",
   "pygments_lexer": "ipython3",
   "version": "3.8.5"
  },
  "orig_nbformat": 2
 },
 "nbformat": 4,
 "nbformat_minor": 2
}